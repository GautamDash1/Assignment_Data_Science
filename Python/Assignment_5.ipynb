{
 "cells": [
  {
   "cell_type": "markdown",
   "id": "86bdbbf6-9360-465e-8b8b-b9a3ee884d3f",
   "metadata": {},
   "source": [
    "Q1. Explain Class and Object with respect to Object-Oriented Programming. Give a suitable example."
   ]
  },
  {
   "cell_type": "markdown",
   "id": "a8620d6f-28eb-46a5-af78-181930ff1ede",
   "metadata": {},
   "source": [
    "Object − Objects have states and behaviors. Example: A dog has states - color, name, breed as well as behaviors – wagging the tail, barking, eating. \n",
    "An object is an instance of a class."
   ]
  },
  {
   "cell_type": "markdown",
   "id": "b23cd0ac-faaa-4a48-8da6-07b61bd82631",
   "metadata": {},
   "source": [
    "Class − A class can be defined as a template/blueprint that describes the behavior/state that the object of its type support. creating class"
   ]
  },
  {
   "cell_type": "code",
   "execution_count": 1,
   "id": "d1b448c0-801d-44bd-ae7f-9772f1ad21b9",
   "metadata": {},
   "outputs": [],
   "source": [
    "class Dog:\n",
    "    def __init__(self, breed, age, colour):\n",
    "        self.breed = breed\n",
    "        self.age = age\n",
    "        self.colour = colour\n",
    "\n",
    "    def details(self):\n",
    "        print(f\"dog breed is {self.breed},his age is {self.age} and his colour is {self.colour}.\")"
   ]
  },
  {
   "cell_type": "code",
   "execution_count": 2,
   "id": "a63ecdfb-319b-4dee-8f46-606bfc0681aa",
   "metadata": {},
   "outputs": [
    {
     "name": "stdout",
     "output_type": "stream",
     "text": [
      "brown\n",
      "jerman shepherd\n",
      "15\n",
      "dog breed is jerman shepherd,his age is 15 and his colour is brown.\n"
     ]
    }
   ],
   "source": [
    "dog = Dog(\"jerman shepherd\", 15, \"brown\")\n",
    "print(dog.colour)\n",
    "print(dog.breed)\n",
    "print(dog.age)\n",
    "dog.details()"
   ]
  },
  {
   "cell_type": "markdown",
   "id": "f21da94e-4390-4826-b320-3c35c6e46b5b",
   "metadata": {},
   "source": [
    "Q2. Name the four pillars of OOPs."
   ]
  },
  {
   "cell_type": "raw",
   "id": "be265e88-3023-450e-b2ae-55221da3466a",
   "metadata": {},
   "source": [
    "1.Encapsulation\n",
    "2.Inheritance\n",
    "3.Abstraction\n",
    "4.Polymorhism"
   ]
  },
  {
   "cell_type": "markdown",
   "id": "b0e0afec-7a7d-4dcb-aef4-d80729ea81cf",
   "metadata": {},
   "source": [
    "Q3.Explain why the __init__() function is used. Give a suitable example."
   ]
  },
  {
   "cell_type": "raw",
   "id": "c72a9f70-960e-4408-800b-d2cc850f60c0",
   "metadata": {},
   "source": [
    "A constructor is a special method that the program calls upon an object’s creation. The constructor is used in the class to initialize data members\n",
    "to the object. With our dog class example, you can use a constructor to assign dog characteristics to each Fox Terrier object. The special method __init__ is the Python constructor. With an understanding of object-oriented programming and classes, let’s now look at how the __init__ method works within a Python program"
   ]
  },
  {
   "cell_type": "code",
   "execution_count": 3,
   "id": "6b8c8eda-5154-481e-9e7c-b87780660a6e",
   "metadata": {},
   "outputs": [],
   "source": [
    "class pwskills:\n",
    "    def __init__(self,name,email):\n",
    "        self.name=name\n",
    "        self.email=email\n",
    "    def student_details(self):\n",
    "        print(self.name,self.email)\n"
   ]
  },
  {
   "cell_type": "code",
   "execution_count": 4,
   "id": "8eb89a62-cd07-418a-aaf6-3f5bd4ebc71f",
   "metadata": {},
   "outputs": [],
   "source": [
    "st=pwskills(\"Gautam\",\"dashgautam331@gmail.com\")"
   ]
  },
  {
   "cell_type": "code",
   "execution_count": 6,
   "id": "8543aefd-1ea8-4ead-a4a2-50a3e1945f92",
   "metadata": {},
   "outputs": [
    {
     "name": "stdout",
     "output_type": "stream",
     "text": [
      "Gautam dashgautam331@gmail.com\n"
     ]
    }
   ],
   "source": [
    "st.student_details()"
   ]
  },
  {
   "cell_type": "markdown",
   "id": "0d0872da-0015-45b6-b2ff-f126bb1b35d7",
   "metadata": {},
   "source": [
    "Q4.Why self is used in OOPs?"
   ]
  },
  {
   "cell_type": "raw",
   "id": "f321bffc-9253-4ec6-88da-45fbeb900ae9",
   "metadata": {},
   "source": [
    "The self variable is used to represent the instance of the class which is often used in object-oriented programming. It works as a reference to the object. Python uses the self parameter to refer to instance attributes and methods of the class."
   ]
  },
  {
   "cell_type": "markdown",
   "id": "b0331f2b-37f8-4bdf-b5be-08f2c0ba87da",
   "metadata": {},
   "source": [
    "Q5. What is inheritance? Give an example for each type of inheritance."
   ]
  },
  {
   "cell_type": "raw",
   "id": "bbc84cc6-d420-426d-8aab-2cbb38fbc938",
   "metadata": {},
   "source": [
    "Inheritance is a process of obtaining properties and characteristics(variables and methods) of another class. In this hierarchical order, the class which inherits another class is called subclass or child class, and the other class is the parent class."
   ]
  },
  {
   "cell_type": "code",
   "execution_count": 8,
   "id": "09d5c52d-bee9-4ee5-b1c1-eaf6a6ff095d",
   "metadata": {},
   "outputs": [
    {
     "name": "stdout",
     "output_type": "stream",
     "text": [
      "Single Inheritance\n",
      "parent class function\n",
      "child class function\n",
      "Multilevel Inheritance\n",
      "father : G\n",
      "mother : G\n",
      "Multiple Inheritance\n",
      "Gautam marks = 255/500\n",
      "Adarsh marks = 214/500\n"
     ]
    }
   ],
   "source": [
    "print(\"Single Inheritance\")\n",
    "\n",
    "\n",
    "class parent:\n",
    "    def f1(self):\n",
    "        print(\"parent class function\")\n",
    "\n",
    "\n",
    "class child(parent):\n",
    "    def f2(self):\n",
    "        print(\"child class function\")\n",
    "\n",
    "\n",
    "obj = child()\n",
    "obj.f1()\n",
    "obj.f2()\n",
    "\n",
    "print(\"Multilevel Inheritance\")\n",
    "\n",
    "\n",
    "class mother:\n",
    "    mothername = 'G'\n",
    "\n",
    "    def mother(self):\n",
    "        print(self.mothername)\n",
    "\n",
    "\n",
    "class father(mother):\n",
    "    fathername = \"G\"\n",
    "\n",
    "    def father(self):\n",
    "        print(self.fathername)\n",
    "\n",
    "\n",
    "class son(father):\n",
    "    def parent(self):\n",
    "        print(\"father :\", self.fathername)\n",
    "        print(\"mother :\", self.mothername)\n",
    "\n",
    "\n",
    "obj2 = son()\n",
    "obj2.parent()\n",
    "\n",
    "print(\"Multiple Inheritance\")\n",
    "\n",
    "\n",
    "class Gautam:\n",
    "    def Gautam(self):\n",
    "        return print(\"Gautam marks = 255/500\")\n",
    "\n",
    "\n",
    "class Adarsh:\n",
    "    def Adarsh(self):\n",
    "        return print(\"Adarsh marks = 214/500\")\n",
    "\n",
    "\n",
    "class stu_marks(Gautam, Adarsh):\n",
    "    pass\n",
    "\n",
    "\n",
    "Gautam = stu_marks()\n",
    "Gautam.Gautam()\n",
    "Adarsh = stu_marks()\n",
    "Adarsh.Adarsh()"
   ]
  }
 ],
 "metadata": {
  "kernelspec": {
   "display_name": "Python 3 (ipykernel)",
   "language": "python",
   "name": "python3"
  },
  "language_info": {
   "codemirror_mode": {
    "name": "ipython",
    "version": 3
   },
   "file_extension": ".py",
   "mimetype": "text/x-python",
   "name": "python",
   "nbconvert_exporter": "python",
   "pygments_lexer": "ipython3",
   "version": "3.10.8"
  }
 },
 "nbformat": 4,
 "nbformat_minor": 5
}

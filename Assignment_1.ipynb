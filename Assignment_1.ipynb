{
 "cells": [
  {
   "cell_type": "code",
   "execution_count": 1,
   "id": "321484c8-a5ae-4605-be8a-28103fe31120",
   "metadata": {},
   "outputs": [],
   "source": [
    "s = \"Gautam\"    #String\n",
    "l = [10,12.5,\"PW Skills\",True,4+7j]     #list\n",
    "f = 10.5148     #Float\n",
    "t = (10, 15 ,[10,20,30], \"PWSKILLS\")"
   ]
  },
  {
   "cell_type": "code",
   "execution_count": 2,
   "id": "1f53b9a2-07c7-4c82-a306-8e9a8edf714e",
   "metadata": {},
   "outputs": [
    {
     "data": {
      "text/plain": [
       "str"
      ]
     },
     "execution_count": 2,
     "metadata": {},
     "output_type": "execute_result"
    }
   ],
   "source": [
    "var1 = ''     #String\n",
    "type(var1)"
   ]
  },
  {
   "cell_type": "code",
   "execution_count": 3,
   "id": "57f4fcaf-faa2-4e48-ae37-9758d3201df9",
   "metadata": {},
   "outputs": [],
   "source": [
    "var2 ='[ DS , ML , Python]'  #String"
   ]
  },
  {
   "cell_type": "code",
   "execution_count": 4,
   "id": "0ba72e78-b4cb-405c-9c79-0e5f900735e2",
   "metadata": {},
   "outputs": [
    {
     "data": {
      "text/plain": [
       "str"
      ]
     },
     "execution_count": 4,
     "metadata": {},
     "output_type": "execute_result"
    }
   ],
   "source": [
    "type(var2)"
   ]
  },
  {
   "cell_type": "code",
   "execution_count": 5,
   "id": "bfcd304e-b13c-4e6a-935a-318b86f2b59a",
   "metadata": {},
   "outputs": [],
   "source": [
    "var3 = [ 'DS' , 'ML' , 'Python' ] #List"
   ]
  },
  {
   "cell_type": "code",
   "execution_count": 6,
   "id": "431720f6-b327-4428-babe-eee8b8438b67",
   "metadata": {},
   "outputs": [
    {
     "data": {
      "text/plain": [
       "list"
      ]
     },
     "execution_count": 6,
     "metadata": {},
     "output_type": "execute_result"
    }
   ],
   "source": [
    "type(var3)"
   ]
  },
  {
   "cell_type": "code",
   "execution_count": 7,
   "id": "909fcc77-3a8f-41b0-abe4-97672e36e285",
   "metadata": {},
   "outputs": [],
   "source": [
    "var4 = 1.   #Float"
   ]
  },
  {
   "cell_type": "code",
   "execution_count": 8,
   "id": "97ba6ce2-bfc1-4977-b6e2-47512e73ca3b",
   "metadata": {},
   "outputs": [
    {
     "data": {
      "text/plain": [
       "float"
      ]
     },
     "execution_count": 8,
     "metadata": {},
     "output_type": "execute_result"
    }
   ],
   "source": [
    "type(var4)"
   ]
  },
  {
   "cell_type": "code",
   "execution_count": 9,
   "id": "7c09b45b-c0ea-4073-b7d7-0e699cd5297e",
   "metadata": {},
   "outputs": [
    {
     "data": {
      "text/plain": [
       "1.3333333333333333"
      ]
     },
     "execution_count": 9,
     "metadata": {},
     "output_type": "execute_result"
    }
   ],
   "source": [
    "# '/' use to divide two numbers .\n",
    "4/3"
   ]
  },
  {
   "cell_type": "code",
   "execution_count": 10,
   "id": "bd57e98c-1302-4c2f-a782-929d230a4f65",
   "metadata": {},
   "outputs": [
    {
     "data": {
      "text/plain": [
       "1"
      ]
     },
     "execution_count": 10,
     "metadata": {},
     "output_type": "execute_result"
    }
   ],
   "source": [
    "# '%' it is used to find the remainder after the division.\n",
    "4%3"
   ]
  },
  {
   "cell_type": "code",
   "execution_count": 11,
   "id": "cae32810-80b4-4c42-b048-dd8347af0a0e",
   "metadata": {},
   "outputs": [
    {
     "data": {
      "text/plain": [
       "1"
      ]
     },
     "execution_count": 11,
     "metadata": {},
     "output_type": "execute_result"
    }
   ],
   "source": [
    "# '//' it is used as floor function.\n",
    "4//3"
   ]
  },
  {
   "cell_type": "code",
   "execution_count": 12,
   "id": "607371dc-b7da-4375-9edc-11e55e688081",
   "metadata": {},
   "outputs": [
    {
     "data": {
      "text/plain": [
       "64"
      ]
     },
     "execution_count": 12,
     "metadata": {},
     "output_type": "execute_result"
    }
   ],
   "source": [
    "# '**' used as the power function.\n",
    "4**3"
   ]
  },
  {
   "cell_type": "code",
   "execution_count": 13,
   "id": "3156f8c7-e3f1-49df-a038-4cbb1b9998c0",
   "metadata": {},
   "outputs": [
    {
     "name": "stdout",
     "output_type": "stream",
     "text": [
      "34\n",
      "56.5587\n",
      "36\n",
      "58\n",
      "pwskills\n",
      "Gautam\n",
      "True\n",
      "(5+7j)\n"
     ]
    }
   ],
   "source": [
    "l=[34,56.5587,36,58,\"pwskills\",\"Gautam\",True,5+7j]\n",
    "for i in l:\n",
    "    print(i)"
   ]
  },
  {
   "cell_type": "code",
   "execution_count": 15,
   "id": "d66548b1-d5fc-4303-8661-e03466b152c1",
   "metadata": {},
   "outputs": [
    {
     "name": "stdin",
     "output_type": "stream",
     "text": [
      "Enter the value of A 8\n",
      "Enter the value of B 2\n"
     ]
    },
    {
     "name": "stdout",
     "output_type": "stream",
     "text": [
      "3\n"
     ]
    }
   ],
   "source": [
    "a = int ( input(\"Enter the value of A\"))\n",
    "b = int ( input(\"Enter the value of B\"))\n",
    "c=0\n",
    "while a % b == 0 :\n",
    "    c=c+1\n",
    "    a = a/b\n",
    "print(c)"
   ]
  },
  {
   "cell_type": "code",
   "execution_count": 16,
   "id": "17be8689-4a22-4ec6-8180-25c870142807",
   "metadata": {},
   "outputs": [],
   "source": [
    "s=list( range(25))"
   ]
  },
  {
   "cell_type": "code",
   "execution_count": 18,
   "id": "cd36b73e-6802-4d2e-8241-a2cfa186ef26",
   "metadata": {},
   "outputs": [
    {
     "name": "stdout",
     "output_type": "stream",
     "text": [
      "0\n",
      "3\n",
      "6\n",
      "9\n",
      "12\n",
      "15\n",
      "18\n",
      "21\n",
      "24\n"
     ]
    }
   ],
   "source": [
    "for i in s:\n",
    "    if s[i]%3==0 :\n",
    "        print( s[i])"
   ]
  },
  {
   "cell_type": "code",
   "execution_count": 19,
   "id": "7f269b2f-6752-4ae0-b9ec-e26db9f07fd4",
   "metadata": {},
   "outputs": [],
   "source": [
    "l =[2,3,4,5,7,8,\"Gautam\",True,4+7j]\n",
    "l[3]=\"RAM\""
   ]
  },
  {
   "cell_type": "code",
   "execution_count": 20,
   "id": "872e83dc-02c6-4a09-9b4c-fe6ac4762827",
   "metadata": {},
   "outputs": [
    {
     "data": {
      "text/plain": [
       "[2, 3, 4, 'RAM', 7, 8, 'Gautam', True, (4+7j)]"
      ]
     },
     "execution_count": 20,
     "metadata": {},
     "output_type": "execute_result"
    }
   ],
   "source": [
    "l"
   ]
  },
  {
   "cell_type": "code",
   "execution_count": 21,
   "id": "38bcfbf5-8bd8-4821-b3b1-4370a67c27d9",
   "metadata": {},
   "outputs": [],
   "source": [
    "#List is mutable in nature as we can mutate the values of datatypes;"
   ]
  },
  {
   "cell_type": "code",
   "execution_count": 22,
   "id": "b65af1ea-e42a-471b-be07-dae659d379b7",
   "metadata": {},
   "outputs": [
    {
     "ename": "TypeError",
     "evalue": "'str' object does not support item assignment",
     "output_type": "error",
     "traceback": [
      "\u001b[0;31m---------------------------------------------------------------------------\u001b[0m",
      "\u001b[0;31mTypeError\u001b[0m                                 Traceback (most recent call last)",
      "Cell \u001b[0;32mIn[22], line 2\u001b[0m\n\u001b[1;32m      1\u001b[0m s\u001b[38;5;241m=\u001b[39m \u001b[38;5;124m\"\u001b[39m\u001b[38;5;124mGautam\u001b[39m\u001b[38;5;124m\"\u001b[39m\n\u001b[0;32m----> 2\u001b[0m \u001b[43ms\u001b[49m\u001b[43m[\u001b[49m\u001b[38;5;241;43m3\u001b[39;49m\u001b[43m]\u001b[49m\u001b[38;5;241m=\u001b[39mf\n",
      "\u001b[0;31mTypeError\u001b[0m: 'str' object does not support item assignment"
     ]
    }
   ],
   "source": [
    "s= \"Gautam\"\n",
    "s[3]=f"
   ]
  },
  {
   "cell_type": "code",
   "execution_count": null,
   "id": "25966949-18c0-4a30-8c87-4fea52452188",
   "metadata": {},
   "outputs": [],
   "source": [
    "#String is a immutable object as "
   ]
  }
 ],
 "metadata": {
  "kernelspec": {
   "display_name": "Python 3 (ipykernel)",
   "language": "python",
   "name": "python3"
  },
  "language_info": {
   "codemirror_mode": {
    "name": "ipython",
    "version": 3
   },
   "file_extension": ".py",
   "mimetype": "text/x-python",
   "name": "python",
   "nbconvert_exporter": "python",
   "pygments_lexer": "ipython3",
   "version": "3.10.8"
  }
 },
 "nbformat": 4,
 "nbformat_minor": 5
}

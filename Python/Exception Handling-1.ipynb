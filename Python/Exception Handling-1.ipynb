{
 "cells": [
  {
   "cell_type": "raw",
   "id": "14fb0a9a-6b3f-4a13-8bd5-91bf0cd70daa",
   "metadata": {},
   "source": [
    "Q1. What is an Exeption in python? Write the difference between Exceptions and syntax errors?"
   ]
  },
  {
   "cell_type": "raw",
   "id": "d65a96e3-82be-4071-83fd-974e63fb1709",
   "metadata": {},
   "source": [
    "Ans : An exception in Python is an error that occurs during the execution of a program. It may be due to various reasons such as invalid input, division by zero, out of memory, or trying to access an undefined variable. When an exception occurs, the normal flow of the program is disrupted, and the program terminates.\n",
    "\n",
    "The key difference between exceptions and syntax errors is that exceptions occur during the execution of a program, while syntax errors occur before the program is executed. Additionally, exceptions can be handled and resolved programmatically, while syntax errors must be fixed manually by the programmer"
   ]
  },
  {
   "cell_type": "raw",
   "id": "990253d8-b1cb-43bb-8769-c5a4735179b2",
   "metadata": {},
   "source": [
    "Q2. What happens when an exception is not handled? Explain with an example"
   ]
  },
  {
   "cell_type": "raw",
   "id": "ea50ba30-e7bc-4dab-ab40-1e8230553ba8",
   "metadata": {},
   "source": [
    "Ans : When an exception is not handled, the program terminates abruptly and generates a traceback, which is a detailed report of the error that occurred. The traceback provides information about the line of code where the error occurred, the type of error, and a description of the error."
   ]
  },
  {
   "cell_type": "code",
   "execution_count": 1,
   "id": "e4252d43-a495-4932-ad35-4865387f6331",
   "metadata": {},
   "outputs": [
    {
     "name": "stdout",
     "output_type": "stream",
     "text": [
      "3.0\n"
     ]
    },
    {
     "ename": "ZeroDivisionError",
     "evalue": "division by zero",
     "output_type": "error",
     "traceback": [
      "\u001b[0;31m---------------------------------------------------------------------------\u001b[0m",
      "\u001b[0;31mZeroDivisionError\u001b[0m                         Traceback (most recent call last)",
      "Cell \u001b[0;32mIn[1], line 6\u001b[0m\n\u001b[1;32m      3\u001b[0m     \u001b[38;5;28;01mreturn\u001b[39;00m result\n\u001b[1;32m      5\u001b[0m \u001b[38;5;28mprint\u001b[39m(divide(\u001b[38;5;241m15\u001b[39m, \u001b[38;5;241m5\u001b[39m))\n\u001b[0;32m----> 6\u001b[0m \u001b[38;5;28mprint\u001b[39m(\u001b[43mdivide\u001b[49m\u001b[43m(\u001b[49m\u001b[38;5;241;43m71\u001b[39;49m\u001b[43m,\u001b[49m\u001b[43m \u001b[49m\u001b[38;5;241;43m0\u001b[39;49m\u001b[43m)\u001b[49m)\n",
      "Cell \u001b[0;32mIn[1], line 2\u001b[0m, in \u001b[0;36mdivide\u001b[0;34m(x, y)\u001b[0m\n\u001b[1;32m      1\u001b[0m \u001b[38;5;28;01mdef\u001b[39;00m \u001b[38;5;21mdivide\u001b[39m(x, y):\n\u001b[0;32m----> 2\u001b[0m     result \u001b[38;5;241m=\u001b[39m \u001b[43mx\u001b[49m\u001b[43m \u001b[49m\u001b[38;5;241;43m/\u001b[39;49m\u001b[43m \u001b[49m\u001b[43my\u001b[49m\n\u001b[1;32m      3\u001b[0m     \u001b[38;5;28;01mreturn\u001b[39;00m result\n",
      "\u001b[0;31mZeroDivisionError\u001b[0m: division by zero"
     ]
    }
   ],
   "source": [
    "def divide(x, y):\n",
    "    result = x / y\n",
    "    return result\n",
    "\n",
    "print(divide(15, 5))\n",
    "print(divide(71, 0))"
   ]
  },
  {
   "cell_type": "raw",
   "id": "edc81329-ba83-405d-802e-69540e2736f3",
   "metadata": {},
   "source": [
    "Q3. Which Python statements are used to catch and handle exceptions? Explain with an example."
   ]
  },
  {
   "cell_type": "raw",
   "id": "f512ae24-cbe8-4b7d-b23b-21f3979f0788",
   "metadata": {},
   "source": [
    "Ans : In Python, exceptions can be caught and handled using the try and except statements. The try block contains the code that might raise an exception, and the except block contains the code that will handle the exception if it occurs.\n",
    "\n",
    "Here is an example of how to use the try and except statements to handle a ZeroDivisionError exception:"
   ]
  },
  {
   "cell_type": "code",
   "execution_count": 2,
   "id": "bb05a637-8a89-4bc0-85b7-a60ec8a57319",
   "metadata": {},
   "outputs": [
    {
     "name": "stdout",
     "output_type": "stream",
     "text": [
      "3.0\n",
      "Cannot divide by zero\n",
      "None\n"
     ]
    }
   ],
   "source": [
    "def divide(x, y):\n",
    "    try:\n",
    "        result = x / y\n",
    "    except ZeroDivisionError:\n",
    "        print(\"Cannot divide by zero\")\n",
    "    else:\n",
    "        return result\n",
    "\n",
    "print(divide(15, 5)) # Output: 2.0\n",
    "print(divide(71, 0)) # Output: Cannot divide by zero"
   ]
  },
  {
   "cell_type": "raw",
   "id": "dd1a50b8-d4d2-4143-a1b7-eed344ea4cd9",
   "metadata": {},
   "source": [
    "Q4. Explain with an example:#\n",
    "    a.try and else\n",
    "    b.finally\n",
    "    c.raise"
   ]
  },
  {
   "cell_type": "code",
   "execution_count": 3,
   "id": "c0bf4139-2f1a-4d7a-914b-31a7b1e8d118",
   "metadata": {},
   "outputs": [
    {
     "name": "stdout",
     "output_type": "stream",
     "text": [
      "2.0\n",
      "5.0\n"
     ]
    }
   ],
   "source": [
    "# try and else statements can be used in combination to handle exceptions in Python. The else block is executed if no exceptions are raised in the try block.\n",
    "#example\n",
    "\n",
    "def divide(x, y):\n",
    "    try:\n",
    "        result = x / y\n",
    "    except ZeroDivisionError:\n",
    "        print(\"Cannot divide by zero\")\n",
    "    else:\n",
    "        return result\n",
    "\n",
    "print(divide(10, 5)) # Output: 2.0\n",
    "print(divide(10, 2)) # Output: 5.0\n"
   ]
  },
  {
   "cell_type": "code",
   "execution_count": 4,
   "id": "bce87471-f586-498a-ac31-8c79c4c01e1d",
   "metadata": {},
   "outputs": [
    {
     "name": "stdout",
     "output_type": "stream",
     "text": [
      "Executing finally block\n",
      "2.0\n",
      "Cannot divide by zero\n",
      "Executing finally block\n",
      "None\n"
     ]
    }
   ],
   "source": [
    "#The finally statement in Python is used to specify a block of code that should be executed regardless of whether an exception occurs or not. The code in the finally block is guaranteed to be executed, even if an exception is raised and not caught in the try block.\n",
    "#example\n",
    "def divide(x, y):\n",
    "    try:\n",
    "        result = x / y\n",
    "    except ZeroDivisionError:\n",
    "        print(\"Cannot divide by zero\")\n",
    "        result = None\n",
    "    finally:\n",
    "        print(\"Executing finally block\")\n",
    "    return result\n",
    "\n",
    "print(divide(10, 5)) # Output: Executing finally block \\n 2.0\n",
    "print(divide(10, 0)) # Output: Cannot divide by zero \\n Executing finally block \\n None"
   ]
  },
  {
   "cell_type": "code",
   "execution_count": 5,
   "id": "769689cf-10f9-43a3-a79c-256faf8f3197",
   "metadata": {},
   "outputs": [
    {
     "name": "stdout",
     "output_type": "stream",
     "text": [
      "2.0\n",
      "Cannot divide by zero\n"
     ]
    }
   ],
   "source": [
    "#The raise statement in Python is used to raise an exception explicitly. It is used to indicate that an error has occurred and to stop the normal execution of the program.\n",
    "#example\n",
    "\n",
    "def divide(x, y):\n",
    "    if y == 0:\n",
    "        raise ZeroDivisionError(\"Cannot divide by zero\")\n",
    "    return x / y\n",
    "\n",
    "try:\n",
    "    print(divide(10, 5)) # Output: 2.0\n",
    "    print(divide(10, 0))\n",
    "except ZeroDivisionError as e:\n",
    "    print(e) # Output: Cannot divide by zero"
   ]
  },
  {
   "cell_type": "raw",
   "id": "46cc7717-9ff5-4e90-b130-6c521270aa8f",
   "metadata": {},
   "source": [
    "Q5. What are Custom Exceptions in python? What do we need Custom Exceptions ? Explain in with an example"
   ]
  },
  {
   "cell_type": "raw",
   "id": "bc457382-8728-4622-9dde-8e565d3c0c00",
   "metadata": {},
   "source": [
    "Ans : Custom exceptions are user-defined exceptions in Python. They allow you to define specific types of exceptions for your application, so you can handle errors and exceptions in a more organized and meaningful way.\n",
    "\n",
    "For example, consider a scenario where you are writing a library that performs some mathematical calculations. In this library, you may encounter several different types of errors, such as invalid input, overflow, and divide-by-zero errors. You could handle these errors by raising built-in exceptions, such as ValueError or ZeroDivisionError, but it may not provide enough context or information about the error that has occurred."
   ]
  },
  {
   "cell_type": "code",
   "execution_count": 6,
   "id": "203d58c1-b936-4561-b5ac-2fab17571cc2",
   "metadata": {},
   "outputs": [
    {
     "name": "stdout",
     "output_type": "stream",
     "text": [
      "2.0\n",
      "Input values must be positive\n",
      "None\n",
      "Cannot divide by zero\n",
      "None\n"
     ]
    }
   ],
   "source": [
    "class InvalidInputError(Exception):\n",
    "    pass\n",
    "\n",
    "class OverflowError(Exception):\n",
    "    pass\n",
    "\n",
    "class DivideByZeroError(Exception):\n",
    "    pass\n",
    "\n",
    "def divide(x, y):\n",
    "    if y == 0:\n",
    "        raise DivideByZeroError(\"Cannot divide by zero\")\n",
    "    return x / y\n",
    "\n",
    "def calculate(x, y):\n",
    "    try:\n",
    "        if x < 0 or y < 0:\n",
    "            raise InvalidInputError(\"Input values must be positive\")\n",
    "        result = divide(x, y)\n",
    "    except DivideByZeroError as e:\n",
    "        print(e)\n",
    "    except InvalidInputError as e:\n",
    "        print(e)\n",
    "    else:\n",
    "        return result\n",
    "\n",
    "print(calculate(10, 5)) # Output: 2.0\n",
    "print(calculate(-10, 5)) # Output: Input values must be positive\n",
    "print(calculate(10, 0)) # Output: Cannot divide by zero"
   ]
  },
  {
   "cell_type": "code",
   "execution_count": null,
   "id": "31ed07c2-5004-4ad0-9f62-387e89b9837f",
   "metadata": {},
   "outputs": [],
   "source": []
  }
 ],
 "metadata": {
  "kernelspec": {
   "display_name": "Python 3 (ipykernel)",
   "language": "python",
   "name": "python3"
  },
  "language_info": {
   "codemirror_mode": {
    "name": "ipython",
    "version": 3
   },
   "file_extension": ".py",
   "mimetype": "text/x-python",
   "name": "python",
   "nbconvert_exporter": "python",
   "pygments_lexer": "ipython3",
   "version": "3.10.8"
  }
 },
 "nbformat": 4,
 "nbformat_minor": 5
}

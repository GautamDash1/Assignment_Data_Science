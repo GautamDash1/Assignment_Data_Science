{
 "cells": [
  {
   "cell_type": "markdown",
   "id": "297fd2d4-82dd-4a07-90a6-3815ab1808a5",
   "metadata": {},
   "source": [
    "Q1.Create a vehicle class with an init method having instance variables as name_of_vehicle, max_speed \n",
    "and average_of_vehicle. "
   ]
  },
  {
   "cell_type": "code",
   "execution_count": 1,
   "id": "624e00fe-77a6-4693-aadf-78622c2cd251",
   "metadata": {},
   "outputs": [
    {
     "name": "stdout",
     "output_type": "stream",
     "text": [
      "Toyota Camry\n",
      "120\n",
      "30\n"
     ]
    }
   ],
   "source": [
    "class Vehicle:\n",
    "    def __init__(self, name_of_vehicle, max_speed, average_of_vehicle):\n",
    "        self.name_of_vehicle = name_of_vehicle\n",
    "        self.max_speed = max_speed\n",
    "        self.average_of_vehicle = average_of_vehicle\n",
    "car = Vehicle(\"Toyota Camry\", 120, 30)\n",
    "print(car.name_of_vehicle)\n",
    "print(car.max_speed)\n",
    "print(car.average_of_vehicle)  "
   ]
  },
  {
   "cell_type": "markdown",
   "id": "ea0d426f-6af3-4417-bf82-c7df94e82ffb",
   "metadata": {},
   "source": [
    "Q2.  Create a child class car from the vehicle class created in Que 1, which will inherit the vehicle class. \n",
    "Create a method named seating_capacity which takes capacity as an argument and returns the name of \n",
    "the vehicle and its seating capacity."
   ]
  },
  {
   "cell_type": "code",
   "execution_count": 1,
   "id": "caa063a4-c81d-4d40-ae67-0d3bb4ba06da",
   "metadata": {},
   "outputs": [
    {
     "name": "stdout",
     "output_type": "stream",
     "text": [
      "Toyota Camry has a seating capacity of 5 people.\n"
     ]
    }
   ],
   "source": [
    "class Vehicle:\n",
    "    def __init__(self, name_of_vehicle, max_speed, average_of_vehicle):\n",
    "        self.name_of_vehicle = name_of_vehicle\n",
    "        self.max_speed = max_speed\n",
    "        self.average_of_vehicle = average_of_vehicle\n",
    "\n",
    "class Car(Vehicle):\n",
    "    def __init__(self, name_of_vehicle, max_speed, average_of_vehicle):\n",
    "        super().__init__(name_of_vehicle, max_speed, average_of_vehicle)\n",
    "\n",
    "    def seating_capacity(self, capacity):\n",
    "        return f\"{self.name_of_vehicle} has a seating capacity of {capacity} people.\"\n",
    "\n",
    "# Example usage:\n",
    "car = Car(\"Toyota Camry\", 180, 30)\n",
    "print(car.seating_capacity(5))  # Output: Toyota Camry has a seating capacity of 5 people.\n"
   ]
  },
  {
   "cell_type": "markdown",
   "id": "ebc6f6bc-41d7-4db7-8336-7a5c38f8ba4f",
   "metadata": {},
   "source": [
    "Q3. What is multiple inheritance? Write a python code to demonstrate multiple inheritance."
   ]
  },
  {
   "cell_type": "markdown",
   "id": "7acc9aa5-55c9-4771-a423-85ee1d027beb",
   "metadata": {},
   "source": [
    "Ans.Multiple inheritance is a feature in object-oriented programming where a class can inherit attributes and methods from more than one parent class. This means a subclass can inherit from multiple base classes."
   ]
  },
  {
   "cell_type": "code",
   "execution_count": 2,
   "id": "80235a82-ada0-4724-b6d2-bc1defb3957a",
   "metadata": {},
   "outputs": [
    {
     "name": "stdout",
     "output_type": "stream",
     "text": [
      "Squeak!\n",
      "Flying...\n",
      "Running...\n"
     ]
    }
   ],
   "source": [
    "class Animal:\n",
    "    def make_sound(self):\n",
    "        pass\n",
    "\n",
    "class Bird(Animal):\n",
    "    def fly(self):\n",
    "        print(\"Flying...\")\n",
    "\n",
    "class Mammal(Animal):\n",
    "    def run(self):\n",
    "        print(\"Running...\")\n",
    "\n",
    "class Bat(Mammal, Bird):\n",
    "    def make_sound(self):\n",
    "        print(\"Squeak!\")\n",
    "\n",
    "# Creating an instance of Bat\n",
    "bat = Bat()\n",
    "\n",
    "# Calling methods from both parent classes\n",
    "bat.make_sound()\n",
    "bat.fly()\n",
    "bat.run()\n"
   ]
  },
  {
   "cell_type": "markdown",
   "id": "f6fe3e29-17b2-4545-b0b6-cc01010e7afe",
   "metadata": {},
   "source": [
    "Q4. What are getter and setter in python? Create a class and create a getter and a setter method in this \n",
    "class."
   ]
  },
  {
   "cell_type": "markdown",
   "id": "dbbc40b6-56ce-462c-9dbd-1226f9fc8ca3",
   "metadata": {},
   "source": [
    "In Python, getters and setters are methods used to access and modify the attributes of a class, respectively. They provide a way to encapsulate the access to class attributes, allowing for controlled access and modification."
   ]
  },
  {
   "cell_type": "code",
   "execution_count": 3,
   "id": "65fe4228-b335-49ed-9f3c-31dca623f2a6",
   "metadata": {},
   "outputs": [
    {
     "name": "stdout",
     "output_type": "stream",
     "text": [
      "Name: John\n",
      "Age: 20\n",
      "Modified Name: Alice\n",
      "Modified Age: 25\n"
     ]
    }
   ],
   "source": [
    "class Student:\n",
    "    def __init__(self, name, age):\n",
    "        self._name = name\n",
    "        self._age = age\n",
    "\n",
    "    # Getter method for name attribute\n",
    "    def get_name(self):\n",
    "        return self._name\n",
    "\n",
    "    # Setter method for name attribute\n",
    "    def set_name(self, name):\n",
    "        self._name = name\n",
    "\n",
    "    # Getter method for age attribute\n",
    "    def get_age(self):\n",
    "        return self._age\n",
    "\n",
    "    # Setter method for age attribute\n",
    "    def set_age(self, age):\n",
    "        if age >= 0:\n",
    "            self._age = age\n",
    "        else:\n",
    "            print(\"Age cannot be negative.\")\n",
    "\n",
    "# Creating an instance of Student class\n",
    "student1 = Student(\"John\", 20)\n",
    "\n",
    "# Using getter method to access attributes\n",
    "print(\"Name:\", student1.get_name())  # Output: Name: John\n",
    "print(\"Age:\", student1.get_age())    # Output: Age: 20\n",
    "\n",
    "# Using setter method to modify attributes\n",
    "student1.set_name(\"Alice\")\n",
    "student1.set_age(25)\n",
    "\n",
    "# Accessing modified attributes\n",
    "print(\"Modified Name:\", student1.get_name())  # Output: Modified Name: Alice\n",
    "print(\"Modified Age:\", student1.get_age())    # Output: Modified Age: 25\n"
   ]
  },
  {
   "cell_type": "markdown",
   "id": "8e362adf-7a3c-4a5f-a8be-d6f9a3437c08",
   "metadata": {},
   "source": [
    "Q5.What is method overriding in python? Write a python code to demonstrate method overriding."
   ]
  },
  {
   "cell_type": "code",
   "execution_count": null,
   "id": "b9f03b53-bf8f-4ee1-b70e-fd8cbd89c65e",
   "metadata": {},
   "outputs": [],
   "source": []
  }
 ],
 "metadata": {
  "kernelspec": {
   "display_name": "Python 3 (ipykernel)",
   "language": "python",
   "name": "python3"
  },
  "language_info": {
   "codemirror_mode": {
    "name": "ipython",
    "version": 3
   },
   "file_extension": ".py",
   "mimetype": "text/x-python",
   "name": "python",
   "nbconvert_exporter": "python",
   "pygments_lexer": "ipython3",
   "version": "3.10.8"
  }
 },
 "nbformat": 4,
 "nbformat_minor": 5
}
